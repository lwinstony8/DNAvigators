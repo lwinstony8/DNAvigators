{
  "nbformat": 4,
  "nbformat_minor": 0,
  "metadata": {
    "colab": {
      "provenance": []
    },
    "kernelspec": {
      "name": "python3",
      "display_name": "Python 3"
    },
    "language_info": {
      "name": "python"
    }
  },
  "cells": [
    {
      "cell_type": "code",
      "execution_count": null,
      "metadata": {
        "colab": {
          "base_uri": "https://localhost:8080/"
        },
        "id": "zn7utPCvZr4B",
        "outputId": "a12e5575-a87f-4fb6-ddc3-ee0fa5206ba0"
      },
      "outputs": [
        {
          "output_type": "stream",
          "name": "stdout",
          "text": [
            "Mounted at /content/drive\n"
          ]
        }
      ],
      "source": [
        "# MOUNT DRIVE\n",
        "\n",
        "from google.colab import drive\n",
        "drive.mount('/content/drive', force_remount=True)"
      ]
    },
    {
      "cell_type": "code",
      "source": [
        "# Most of this code found from https://docs.scarches.org/en/latest/multigrate.html\n",
        "import scarches as sca\n",
        "import scanpy as sc\n",
        "import anndata as ad\n",
        "import numpy as np\n",
        "import muon\n",
        "import gdown\n",
        "import json\n",
        "\n",
        "import warnings\n",
        "warnings.filterwarnings(\"ignore\")"
      ],
      "metadata": {
        "id": "YHEiW-h8KZT6"
      },
      "execution_count": null,
      "outputs": []
    },
    {
      "cell_type": "code",
      "source": [
        "# download full dataset (better compressed format provided by multigrate)\n",
        "!wget 'ftp://ftp.ncbi.nlm.nih.gov/geo/series/GSE194nnn/GSE194122/suppl/GSE194122_openproblems_neurips2021_cite_BMMC_processed.h5ad.gz'\n",
        "!wget 'ftp://ftp.ncbi.nlm.nih.gov/geo/series/GSE194nnn/GSE194122/suppl/GSE194122_openproblems_neurips2021_multiome_BMMC_processed.h5ad.gz'\n",
        "# unzip into h5ad compressed format\n",
        "!gzip -d GSE194122_openproblems_neurips2021_cite_BMMC_processed.h5ad.gz\n",
        "!gzip -d GSE194122_openproblems_neurips2021_multiome_BMMC_processed.h5ad.gz"
      ],
      "metadata": {
        "id": "ZuPlPTf5KkOF"
      },
      "execution_count": null,
      "outputs": []
    },
    {
      "cell_type": "code",
      "source": [
        "# download healthy sample control dataset (if we choose to use raw data)\n",
        "# For info on how to further unzip this data see https://bioinformatics.ccr.cancer.gov/btep/wp-content/uploads/Decompressing-files-with-the-tar-command-%c2%b7-AmyStonelakeBTEP-Wiki.pdf\n",
        "!curl -O https://cg.10xgenomics.com/samples/cell-arc/2.0.0/pbmc_granulocyte_sorted_10k/pbmc_granulocyte_sorted_10k_fastqs.tar"
      ],
      "metadata": {
        "colab": {
          "base_uri": "https://localhost:8080/"
        },
        "id": "kf5xsP65aB4D",
        "outputId": "ad8a4cd1-c3be-4f8a-e9db-6789798459b8"
      },
      "execution_count": null,
      "outputs": [
        {
          "output_type": "stream",
          "name": "stdout",
          "text": [
            "  % Total    % Received % Xferd  Average Speed   Time    Time     Time  Current\n",
            "                                 Dload  Upload   Total   Spent    Left  Speed\n",
            " 90 88.9G   90 80.2G    0     0  38.3M      0  0:39:37  0:35:45  0:03:52 45.9M\n",
            "curl: (23) Failure writing output to destination\n"
          ]
        }
      ]
    },
    {
      "cell_type": "code",
      "source": [
        "cite = sc.read('GSE194122_openproblems_neurips2021_cite_BMMC_processed.h5ad')\n",
        "cite"
      ],
      "metadata": {
        "id": "rnn5C-rILD_v"
      },
      "execution_count": null,
      "outputs": []
    },
    {
      "cell_type": "code",
      "source": [
        "rna_cite = cite[:, cite.var['feature_types'] == 'GEX'].copy()\n",
        "adt = cite[:, cite.var['feature_types'] == 'ADT'].copy()\n",
        "rna_cite.shape, adt.shape"
      ],
      "metadata": {
        "id": "Q-nYEh3dLKzE"
      },
      "execution_count": null,
      "outputs": []
    },
    {
      "cell_type": "code",
      "source": [
        "multiome = sc.read('GSE194122_openproblems_neurips2021_multiome_BMMC_processed.h5ad')\n",
        "multiome"
      ],
      "metadata": {
        "id": "3HJW9eHULMM5"
      },
      "execution_count": null,
      "outputs": []
    },
    {
      "cell_type": "code",
      "source": [
        "rna_multiome = multiome[:, multiome.var['feature_types'] == 'GEX'].copy()\n",
        "atac = multiome[:, multiome.var['feature_types'] == 'ATAC'].copy()\n",
        "rna_multiome.shape, atac.shape"
      ],
      "metadata": {
        "id": "G-zN3vr3LNnR"
      },
      "execution_count": null,
      "outputs": []
    },
    {
      "cell_type": "code",
      "source": [
        "# concat\n",
        "rna = ad.concat([rna_cite, rna_multiome])\n",
        "# normalize\n",
        "rna.X = rna.layers['counts'].copy()\n",
        "sc.pp.normalize_total(rna, target_sum=1e4)\n",
        "sc.pp.log1p(rna)\n",
        "# subset to hvg\n",
        "sc.pp.highly_variable_genes(rna, n_top_genes=4000, batch_key='Samplename')\n",
        "rna = rna[:, rna.var.highly_variable].copy()\n",
        "# split again\n",
        "rna_cite = rna[rna.obs['Modality'] == 'cite'].copy()\n",
        "rna_multiome = rna[rna.obs['Modality'] == 'multiome'].copy()\n",
        "rna_multiome.shape, rna_cite.shape"
      ],
      "metadata": {
        "id": "nDcIYRNQLPMG"
      },
      "execution_count": null,
      "outputs": []
    },
    {
      "cell_type": "code",
      "source": [
        "adt.X = adt.layers['counts'].copy()\n",
        "muon.prot.pp.clr(adt)\n",
        "adt.layers['clr'] = adt.X.copy()\n",
        "adt"
      ],
      "metadata": {
        "id": "3gKg6E_wLQtz"
      },
      "execution_count": null,
      "outputs": []
    },
    {
      "cell_type": "code",
      "source": [
        "atac.X = atac.layers['counts'].copy()\n",
        "sc.pp.normalize_total(atac, target_sum=1e4)\n",
        "sc.pp.log1p(atac)\n",
        "atac.layers['log-norm'] = atac.X.copy()\n",
        "atac"
      ],
      "metadata": {
        "id": "xTSyc5VZLSK4"
      },
      "execution_count": null,
      "outputs": []
    },
    {
      "cell_type": "code",
      "source": [
        "sc.pp.highly_variable_genes(atac, n_top_genes=20000, batch_key='batch')\n",
        "atac = atac[:, atac.var.highly_variable].copy()\n",
        "atac"
      ],
      "metadata": {
        "id": "3z5tYLS_LTj8"
      },
      "execution_count": null,
      "outputs": []
    },
    {
      "cell_type": "code",
      "source": [
        "# importing labels from Multigrate google drive to \"harmonize\" labels between\n",
        "gdown.download(\"https://drive.google.com/u/1/uc?id=1D54P3jURwkdA3goPqYuby0qx6RzKqcP2\")"
      ],
      "metadata": {
        "id": "YwWx8rFoLWyR"
      },
      "execution_count": null,
      "outputs": []
    },
    {
      "cell_type": "code",
      "source": [
        "# TODO: change the harmonized celltypes json to best represent the high-granularity labels we want to input\n",
        "with open('cellttype_harmonize.json', 'r') as f:\n",
        "    harmonized_celltypes = json.load(f)\n",
        "harmonized_celltypes.keys()"
      ],
      "metadata": {
        "id": "r8n6GB9bLgCs"
      },
      "execution_count": null,
      "outputs": []
    },
    {
      "cell_type": "code",
      "source": [
        "rna_multiome.obs['l1_cell_type'] = rna_multiome.obs['cell_type'].map(harmonized_celltypes['multi_ct_l1_map'])\n",
        "rna_multiome.obs['l2_cell_type'] = rna_multiome.obs['cell_type'].map(harmonized_celltypes['multi_ct_l2_map'])\n",
        "\n",
        "atac.obs['l1_cell_type'] = atac.obs['cell_type'].map(harmonized_celltypes['multi_ct_l1_map'])\n",
        "atac.obs['l2_cell_type'] = atac.obs['cell_type'].map(harmonized_celltypes['multi_ct_l2_map'])\n",
        "\n",
        "rna_cite.obs['l1_cell_type'] = rna_cite.obs['cell_type'].map(harmonized_celltypes['cite_ct_l1_map'])\n",
        "rna_cite.obs['l2_cell_type'] = rna_cite.obs['cell_type'].map(harmonized_celltypes['cite_ct_l2_map'])\n",
        "\n",
        "adt.obs['l1_cell_type'] = adt.obs['cell_type'].map(harmonized_celltypes['cite_ct_l1_map'])\n",
        "adt.obs['l2_cell_type'] = adt.obs['cell_type'].map(harmonized_celltypes['cite_ct_l2_map'])"
      ],
      "metadata": {
        "id": "tKYsnE1yLwvj"
      },
      "execution_count": null,
      "outputs": []
    },
    {
      "cell_type": "code",
      "source": [
        "# define the reference and the query batches (TODO: change how we would like to define these)\n",
        "cite_reference_batches = ['s1d1', 's1d2', 's1d3']\n",
        "multiome_reference_batches = ['s1d1', 's1d2', 's1d3']\n",
        "cite_query_batches = ['s2d1', 's2d4']\n",
        "multiome_query_batches = ['s2d1', 's2d4']\n",
        "# query\n",
        "rna_multiome_query = rna_multiome[rna_multiome.obs['batch'].isin(multiome_query_batches)].copy()\n",
        "atac_query = atac[atac.obs['batch'].isin(multiome_query_batches)].copy()\n",
        "rna_cite_query = rna_cite[rna_cite.obs['batch'].isin(cite_query_batches)].copy()\n",
        "adt_query = adt[adt.obs['batch'].isin(cite_query_batches)].copy()\n",
        "# reference\n",
        "rna_multiome = rna_multiome[rna_multiome.obs['batch'].isin(multiome_reference_batches)].copy()\n",
        "atac = atac[atac.obs['batch'].isin(multiome_reference_batches)].copy()\n",
        "rna_cite = rna_cite[rna_cite.obs['batch'].isin(cite_reference_batches)].copy()\n",
        "adt = adt[adt.obs['batch'].isin(cite_reference_batches)].copy()"
      ],
      "metadata": {
        "id": "WIXWiKCOMEmQ"
      },
      "execution_count": null,
      "outputs": []
    },
    {
      "cell_type": "code",
      "source": [
        "adata = sca.models.organize_multiome_anndatas(\n",
        "    adatas = [[rna_cite, rna_multiome], [None, atac], [adt, None]],    # a list of anndata objects per modality, RNA-seq always goes first\n",
        "    layers = [['counts', 'counts'], [None, 'log-norm'], ['clr', None]], # if need to use data from .layers, if None use .X\n",
        ")\n",
        "adata"
      ],
      "metadata": {
        "id": "G8bk7Ng_MLRi"
      },
      "execution_count": null,
      "outputs": []
    },
    {
      "cell_type": "code",
      "source": [
        "#from here, just pass into the model once that is developed!"
      ],
      "metadata": {
        "id": "h1t5mqL0MSaf"
      },
      "execution_count": null,
      "outputs": []
    }
  ]
}